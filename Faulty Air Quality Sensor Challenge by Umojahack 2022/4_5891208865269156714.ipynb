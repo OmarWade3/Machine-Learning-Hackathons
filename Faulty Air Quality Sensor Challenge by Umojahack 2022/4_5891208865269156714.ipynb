{
 "cells": [
  {
   "cell_type": "markdown",
   "id": "97a3239d",
   "metadata": {},
   "source": [
    "# UmojaHack Africa 2022: Faulty Air Quality Sensor Challenge\n",
    "# By XFireSD Team"
   ]
  },
  {
   "cell_type": "markdown",
   "id": "968bc204",
   "metadata": {},
   "source": [
    "# Import libraries"
   ]
  },
  {
   "cell_type": "code",
   "execution_count": 1,
   "id": "ca5139f0",
   "metadata": {},
   "outputs": [],
   "source": [
    "import warnings\n",
    "warnings.filterwarnings('ignore')\n",
    "\n",
    "import numpy as np\n",
    "import pandas as pd\n",
    "import matplotlib.pyplot as plt\n",
    "import seaborn as sns\n",
    "from scipy import stats\n",
    "from pandas.plotting import scatter_matrix\n",
    "\n",
    "import category_encoders as ce \n",
    "import impyute as impy\n",
    "import imblearn\n",
    "from sklearn.model_selection import TimeSeriesSplit\n",
    "\n",
    "from lightgbm import LGBMClassifier\n",
    "from sklearn.metrics import accuracy_score"
   ]
  },
  {
   "cell_type": "markdown",
   "id": "d4023c8a",
   "metadata": {},
   "source": [
    "# Read the training and testing data\n"
   ]
  },
  {
   "cell_type": "code",
   "execution_count": 2,
   "id": "1ede6afb",
   "metadata": {},
   "outputs": [],
   "source": [
    "train_df = pd.read_csv(\"train.csv\")\n",
    "test_df = pd.read_csv(\"test.csv\")\n",
    "ID = test_df['ID']"
   ]
  },
  {
   "cell_type": "markdown",
   "id": "b7f152fb",
   "metadata": {},
   "source": [
    "# Exploratory data analysis"
   ]
  },
  {
   "cell_type": "markdown",
   "id": "eebc4b79",
   "metadata": {},
   "source": [
    "# Features:"
   ]
  },
  {
   "cell_type": "markdown",
   "id": "7bf0a4e6",
   "metadata": {},
   "source": [
    "* $Offset fault$: Is the device faulty or not? [Target]\n",
    "* $ID$: Unique Id of each sample\n",
    "* $Sensor1 PM2.5$: Values of the first sensor\n",
    "* $Sensor2 PM2.5$: Values of the second sensor\n",
    "* $Temperature$: Temperature\n",
    "* $Relative Humidity$: Relative Humidity"
   ]
  },
  {
   "cell_type": "code",
   "execution_count": 3,
   "id": "7e414fa4",
   "metadata": {},
   "outputs": [
    {
     "data": {
      "text/plain": [
       "(297177, 7)"
      ]
     },
     "execution_count": 3,
     "metadata": {},
     "output_type": "execute_result"
    }
   ],
   "source": [
    "train_df.shape"
   ]
  },
  {
   "cell_type": "code",
   "execution_count": 4,
   "id": "0eecb98d",
   "metadata": {},
   "outputs": [
    {
     "data": {
      "text/plain": [
       "(127361, 6)"
      ]
     },
     "execution_count": 4,
     "metadata": {},
     "output_type": "execute_result"
    }
   ],
   "source": [
    "test_df.shape"
   ]
  },
  {
   "cell_type": "code",
   "execution_count": 5,
   "id": "9c501961",
   "metadata": {},
   "outputs": [
    {
     "name": "stdout",
     "output_type": "stream",
     "text": [
      "<class 'pandas.core.frame.DataFrame'>\n",
      "RangeIndex: 297177 entries, 0 to 297176\n",
      "Data columns (total 7 columns):\n",
      " #   Column             Non-Null Count   Dtype  \n",
      "---  ------             --------------   -----  \n",
      " 0   ID                 297177 non-null  object \n",
      " 1   Datetime           297177 non-null  object \n",
      " 2   Sensor1_PM2.5      293563 non-null  float64\n",
      " 3   Sensor2_PM2.5      293563 non-null  float64\n",
      " 4   Temperature        293628 non-null  float64\n",
      " 5   Relative_Humidity  293628 non-null  float64\n",
      " 6   Offset_fault       297177 non-null  int64  \n",
      "dtypes: float64(4), int64(1), object(2)\n",
      "memory usage: 15.9+ MB\n"
     ]
    }
   ],
   "source": [
    "train_df.info()"
   ]
  },
  {
   "cell_type": "code",
   "execution_count": 6,
   "id": "3673a464",
   "metadata": {},
   "outputs": [
    {
     "name": "stdout",
     "output_type": "stream",
     "text": [
      "<class 'pandas.core.frame.DataFrame'>\n",
      "RangeIndex: 127361 entries, 0 to 127360\n",
      "Data columns (total 6 columns):\n",
      " #   Column             Non-Null Count   Dtype  \n",
      "---  ------             --------------   -----  \n",
      " 0   ID                 127361 non-null  object \n",
      " 1   Datetime           127361 non-null  object \n",
      " 2   Sensor1_PM2.5      127361 non-null  float64\n",
      " 3   Sensor2_PM2.5      127361 non-null  float64\n",
      " 4   Temperature        39271 non-null   float64\n",
      " 5   Relative_Humidity  39271 non-null   float64\n",
      "dtypes: float64(4), object(2)\n",
      "memory usage: 5.8+ MB\n"
     ]
    }
   ],
   "source": [
    "test_df.info()"
   ]
  },
  {
   "cell_type": "code",
   "execution_count": 7,
   "id": "a14047df",
   "metadata": {},
   "outputs": [
    {
     "data": {
      "text/html": [
       "<div>\n",
       "<style scoped>\n",
       "    .dataframe tbody tr th:only-of-type {\n",
       "        vertical-align: middle;\n",
       "    }\n",
       "\n",
       "    .dataframe tbody tr th {\n",
       "        vertical-align: top;\n",
       "    }\n",
       "\n",
       "    .dataframe thead th {\n",
       "        text-align: right;\n",
       "    }\n",
       "</style>\n",
       "<table border=\"1\" class=\"dataframe\">\n",
       "  <thead>\n",
       "    <tr style=\"text-align: right;\">\n",
       "      <th></th>\n",
       "      <th>ID</th>\n",
       "      <th>Datetime</th>\n",
       "      <th>Sensor1_PM2.5</th>\n",
       "      <th>Sensor2_PM2.5</th>\n",
       "      <th>Temperature</th>\n",
       "      <th>Relative_Humidity</th>\n",
       "      <th>Offset_fault</th>\n",
       "    </tr>\n",
       "  </thead>\n",
       "  <tbody>\n",
       "    <tr>\n",
       "      <th>0</th>\n",
       "      <td>ID_QF0ZTQJ2SF5Q</td>\n",
       "      <td>2021-11-03 04:06:31</td>\n",
       "      <td>52.58</td>\n",
       "      <td>49.52</td>\n",
       "      <td>17.4</td>\n",
       "      <td>96.0</td>\n",
       "      <td>0</td>\n",
       "    </tr>\n",
       "    <tr>\n",
       "      <th>1</th>\n",
       "      <td>ID_4GTK689CNX5S</td>\n",
       "      <td>2021-11-08 18:43:23</td>\n",
       "      <td>35.25</td>\n",
       "      <td>33.40</td>\n",
       "      <td>25.0</td>\n",
       "      <td>75.0</td>\n",
       "      <td>0</td>\n",
       "    </tr>\n",
       "    <tr>\n",
       "      <th>2</th>\n",
       "      <td>ID_DL7VVKW9U7XQ</td>\n",
       "      <td>2021-11-07 09:50:33</td>\n",
       "      <td>19.18</td>\n",
       "      <td>23.50</td>\n",
       "      <td>24.9</td>\n",
       "      <td>75.0</td>\n",
       "      <td>0</td>\n",
       "    </tr>\n",
       "    <tr>\n",
       "      <th>3</th>\n",
       "      <td>ID_6XQOMBXM2DG3</td>\n",
       "      <td>2022-01-01 18:55:15</td>\n",
       "      <td>19.40</td>\n",
       "      <td>15.48</td>\n",
       "      <td>24.9</td>\n",
       "      <td>70.0</td>\n",
       "      <td>0</td>\n",
       "    </tr>\n",
       "    <tr>\n",
       "      <th>4</th>\n",
       "      <td>ID_UQZW9ISJY9QE</td>\n",
       "      <td>2021-11-05 22:23:48</td>\n",
       "      <td>38.30</td>\n",
       "      <td>34.77</td>\n",
       "      <td>20.9</td>\n",
       "      <td>89.0</td>\n",
       "      <td>0</td>\n",
       "    </tr>\n",
       "  </tbody>\n",
       "</table>\n",
       "</div>"
      ],
      "text/plain": [
       "                ID             Datetime  Sensor1_PM2.5  Sensor2_PM2.5  \\\n",
       "0  ID_QF0ZTQJ2SF5Q  2021-11-03 04:06:31          52.58          49.52   \n",
       "1  ID_4GTK689CNX5S  2021-11-08 18:43:23          35.25          33.40   \n",
       "2  ID_DL7VVKW9U7XQ  2021-11-07 09:50:33          19.18          23.50   \n",
       "3  ID_6XQOMBXM2DG3  2022-01-01 18:55:15          19.40          15.48   \n",
       "4  ID_UQZW9ISJY9QE  2021-11-05 22:23:48          38.30          34.77   \n",
       "\n",
       "   Temperature  Relative_Humidity  Offset_fault  \n",
       "0         17.4               96.0             0  \n",
       "1         25.0               75.0             0  \n",
       "2         24.9               75.0             0  \n",
       "3         24.9               70.0             0  \n",
       "4         20.9               89.0             0  "
      ]
     },
     "execution_count": 7,
     "metadata": {},
     "output_type": "execute_result"
    }
   ],
   "source": [
    "train_df.head()"
   ]
  },
  {
   "cell_type": "code",
   "execution_count": 8,
   "id": "28cdfec7",
   "metadata": {},
   "outputs": [
    {
     "data": {
      "text/html": [
       "<div>\n",
       "<style scoped>\n",
       "    .dataframe tbody tr th:only-of-type {\n",
       "        vertical-align: middle;\n",
       "    }\n",
       "\n",
       "    .dataframe tbody tr th {\n",
       "        vertical-align: top;\n",
       "    }\n",
       "\n",
       "    .dataframe thead th {\n",
       "        text-align: right;\n",
       "    }\n",
       "</style>\n",
       "<table border=\"1\" class=\"dataframe\">\n",
       "  <thead>\n",
       "    <tr style=\"text-align: right;\">\n",
       "      <th></th>\n",
       "      <th>Sensor1_PM2.5</th>\n",
       "      <th>Sensor2_PM2.5</th>\n",
       "      <th>Temperature</th>\n",
       "      <th>Relative_Humidity</th>\n",
       "      <th>Offset_fault</th>\n",
       "    </tr>\n",
       "  </thead>\n",
       "  <tbody>\n",
       "    <tr>\n",
       "      <th>count</th>\n",
       "      <td>293563.000000</td>\n",
       "      <td>293563.000000</td>\n",
       "      <td>293628.000000</td>\n",
       "      <td>293628.000000</td>\n",
       "      <td>297177.000000</td>\n",
       "    </tr>\n",
       "    <tr>\n",
       "      <th>mean</th>\n",
       "      <td>40.751195</td>\n",
       "      <td>38.183018</td>\n",
       "      <td>23.316554</td>\n",
       "      <td>78.653623</td>\n",
       "      <td>0.371072</td>\n",
       "    </tr>\n",
       "    <tr>\n",
       "      <th>std</th>\n",
       "      <td>28.526182</td>\n",
       "      <td>28.647761</td>\n",
       "      <td>3.836971</td>\n",
       "      <td>14.772725</td>\n",
       "      <td>0.483092</td>\n",
       "    </tr>\n",
       "    <tr>\n",
       "      <th>min</th>\n",
       "      <td>-9.450000</td>\n",
       "      <td>-9.700000</td>\n",
       "      <td>16.700000</td>\n",
       "      <td>27.000000</td>\n",
       "      <td>0.000000</td>\n",
       "    </tr>\n",
       "    <tr>\n",
       "      <th>25%</th>\n",
       "      <td>22.430000</td>\n",
       "      <td>19.520000</td>\n",
       "      <td>20.400000</td>\n",
       "      <td>68.000000</td>\n",
       "      <td>0.000000</td>\n",
       "    </tr>\n",
       "    <tr>\n",
       "      <th>50%</th>\n",
       "      <td>36.470000</td>\n",
       "      <td>33.720000</td>\n",
       "      <td>21.900000</td>\n",
       "      <td>84.000000</td>\n",
       "      <td>0.000000</td>\n",
       "    </tr>\n",
       "    <tr>\n",
       "      <th>75%</th>\n",
       "      <td>49.420000</td>\n",
       "      <td>47.570000</td>\n",
       "      <td>26.300000</td>\n",
       "      <td>91.000000</td>\n",
       "      <td>1.000000</td>\n",
       "    </tr>\n",
       "    <tr>\n",
       "      <th>max</th>\n",
       "      <td>997.960000</td>\n",
       "      <td>997.260000</td>\n",
       "      <td>34.900000</td>\n",
       "      <td>99.000000</td>\n",
       "      <td>1.000000</td>\n",
       "    </tr>\n",
       "  </tbody>\n",
       "</table>\n",
       "</div>"
      ],
      "text/plain": [
       "       Sensor1_PM2.5  Sensor2_PM2.5    Temperature  Relative_Humidity  \\\n",
       "count  293563.000000  293563.000000  293628.000000      293628.000000   \n",
       "mean       40.751195      38.183018      23.316554          78.653623   \n",
       "std        28.526182      28.647761       3.836971          14.772725   \n",
       "min        -9.450000      -9.700000      16.700000          27.000000   \n",
       "25%        22.430000      19.520000      20.400000          68.000000   \n",
       "50%        36.470000      33.720000      21.900000          84.000000   \n",
       "75%        49.420000      47.570000      26.300000          91.000000   \n",
       "max       997.960000     997.260000      34.900000          99.000000   \n",
       "\n",
       "        Offset_fault  \n",
       "count  297177.000000  \n",
       "mean        0.371072  \n",
       "std         0.483092  \n",
       "min         0.000000  \n",
       "25%         0.000000  \n",
       "50%         0.000000  \n",
       "75%         1.000000  \n",
       "max         1.000000  "
      ]
     },
     "execution_count": 8,
     "metadata": {},
     "output_type": "execute_result"
    }
   ],
   "source": [
    "train_df.describe()"
   ]
  },
  {
   "cell_type": "code",
   "execution_count": 9,
   "id": "fbf8c52b",
   "metadata": {},
   "outputs": [
    {
     "data": {
      "text/html": [
       "<div>\n",
       "<style scoped>\n",
       "    .dataframe tbody tr th:only-of-type {\n",
       "        vertical-align: middle;\n",
       "    }\n",
       "\n",
       "    .dataframe tbody tr th {\n",
       "        vertical-align: top;\n",
       "    }\n",
       "\n",
       "    .dataframe thead th {\n",
       "        text-align: right;\n",
       "    }\n",
       "</style>\n",
       "<table border=\"1\" class=\"dataframe\">\n",
       "  <thead>\n",
       "    <tr style=\"text-align: right;\">\n",
       "      <th></th>\n",
       "      <th>Sensor1_PM2.5</th>\n",
       "      <th>Sensor2_PM2.5</th>\n",
       "      <th>Temperature</th>\n",
       "      <th>Relative_Humidity</th>\n",
       "    </tr>\n",
       "  </thead>\n",
       "  <tbody>\n",
       "    <tr>\n",
       "      <th>count</th>\n",
       "      <td>127361.000000</td>\n",
       "      <td>127361.000000</td>\n",
       "      <td>39271.000000</td>\n",
       "      <td>39271.000000</td>\n",
       "    </tr>\n",
       "    <tr>\n",
       "      <th>mean</th>\n",
       "      <td>42.795356</td>\n",
       "      <td>43.958427</td>\n",
       "      <td>23.683838</td>\n",
       "      <td>72.215834</td>\n",
       "    </tr>\n",
       "    <tr>\n",
       "      <th>std</th>\n",
       "      <td>27.838730</td>\n",
       "      <td>28.260335</td>\n",
       "      <td>3.725563</td>\n",
       "      <td>18.078569</td>\n",
       "    </tr>\n",
       "    <tr>\n",
       "      <th>min</th>\n",
       "      <td>1.230000</td>\n",
       "      <td>0.780000</td>\n",
       "      <td>16.900000</td>\n",
       "      <td>28.000000</td>\n",
       "    </tr>\n",
       "    <tr>\n",
       "      <th>25%</th>\n",
       "      <td>24.670000</td>\n",
       "      <td>25.580000</td>\n",
       "      <td>20.900000</td>\n",
       "      <td>58.000000</td>\n",
       "    </tr>\n",
       "    <tr>\n",
       "      <th>50%</th>\n",
       "      <td>39.770000</td>\n",
       "      <td>39.880000</td>\n",
       "      <td>22.500000</td>\n",
       "      <td>78.000000</td>\n",
       "    </tr>\n",
       "    <tr>\n",
       "      <th>75%</th>\n",
       "      <td>52.030000</td>\n",
       "      <td>52.830000</td>\n",
       "      <td>26.500000</td>\n",
       "      <td>88.000000</td>\n",
       "    </tr>\n",
       "    <tr>\n",
       "      <th>max</th>\n",
       "      <td>927.780000</td>\n",
       "      <td>894.750000</td>\n",
       "      <td>34.000000</td>\n",
       "      <td>97.000000</td>\n",
       "    </tr>\n",
       "  </tbody>\n",
       "</table>\n",
       "</div>"
      ],
      "text/plain": [
       "       Sensor1_PM2.5  Sensor2_PM2.5   Temperature  Relative_Humidity\n",
       "count  127361.000000  127361.000000  39271.000000       39271.000000\n",
       "mean       42.795356      43.958427     23.683838          72.215834\n",
       "std        27.838730      28.260335      3.725563          18.078569\n",
       "min         1.230000       0.780000     16.900000          28.000000\n",
       "25%        24.670000      25.580000     20.900000          58.000000\n",
       "50%        39.770000      39.880000     22.500000          78.000000\n",
       "75%        52.030000      52.830000     26.500000          88.000000\n",
       "max       927.780000     894.750000     34.000000          97.000000"
      ]
     },
     "execution_count": 9,
     "metadata": {},
     "output_type": "execute_result"
    }
   ],
   "source": [
    "test_df.describe()"
   ]
  },
  {
   "cell_type": "code",
   "execution_count": 10,
   "id": "d319100c",
   "metadata": {},
   "outputs": [
    {
     "name": "stdout",
     "output_type": "stream",
     "text": [
      "ID 297177\n",
      "Datetime 293751\n",
      "Sensor1_PM2.5 9814\n",
      "Sensor2_PM2.5 9971\n",
      "Temperature 167\n",
      "Relative_Humidity 70\n",
      "Offset_fault 2\n"
     ]
    }
   ],
   "source": [
    "#The cardinality of each catgorical feature (Training)\n",
    "cat_cols = train_df.columns\n",
    "for col in cat_cols:\n",
    "    print(col, train_df[col].nunique())"
   ]
  },
  {
   "cell_type": "code",
   "execution_count": 11,
   "id": "23c3c69d",
   "metadata": {},
   "outputs": [
    {
     "name": "stdout",
     "output_type": "stream",
     "text": [
      "ID 127361\n",
      "Datetime 126092\n",
      "Sensor1_PM2.5 8687\n",
      "Sensor2_PM2.5 8893\n",
      "Temperature 129\n",
      "Relative_Humidity 66\n"
     ]
    }
   ],
   "source": [
    "#The cardinality of each catgorical feature (Testing)\n",
    "cat_cols = test_df.columns\n",
    "for col in cat_cols:\n",
    "    print(col, test_df[col].nunique())"
   ]
  },
  {
   "cell_type": "markdown",
   "id": "847e6cc4",
   "metadata": {},
   "source": [
    "### Put the date and time in separate features"
   ]
  },
  {
   "cell_type": "code",
   "execution_count": 12,
   "id": "1fc3f218",
   "metadata": {},
   "outputs": [],
   "source": [
    "for dataset in (train_df,test_df):\n",
    "    dataset['Datetime'] = pd.to_datetime(dataset['Datetime'])\n",
    "    dataset['Datetime_day'] = dataset.Datetime.dt.day\n",
    "    dataset['Datetime_month'] = dataset.Datetime.dt.month\n",
    "    dataset['Datetime_year'] = dataset.Datetime.dt.year\n",
    "    dataset['Datetime_hour'] = dataset.Datetime.dt.hour\n",
    "    dataset['Datetime_minute'] = dataset.Datetime.dt.minute\n",
    "    dataset['Datetime_seconds'] = dataset.Datetime.dt.second\n",
    "    dataset['Datetime_day_of_year'] = dataset.Datetime.dt.dayofyear\n",
    "    dataset['Datetime_day_of_week'] = dataset.Datetime.dt.dayofweek\n",
    "    dataset['Datetime_week_of_year'] = dataset.Datetime.dt.weekofyear\n",
    "    dataset.drop('Datetime',axis=1,inplace=True)"
   ]
  },
  {
   "cell_type": "markdown",
   "id": "cf19186a",
   "metadata": {},
   "source": [
    "# Visualizations"
   ]
  },
  {
   "cell_type": "markdown",
   "id": "5e585668",
   "metadata": {},
   "source": [
    "### Offset_fault"
   ]
  },
  {
   "cell_type": "code",
   "execution_count": 13,
   "id": "c46bd41a",
   "metadata": {},
   "outputs": [
    {
     "data": {
      "text/plain": [
       "<AxesSubplot:>"
      ]
     },
     "execution_count": 13,
     "metadata": {},
     "output_type": "execute_result"
    },
    {
     "data": {
      "image/png": "[encoded data removed]",
      "text/plain": [
       "<Figure size 432x288 with 1 Axes>"
      ]
     },
     "metadata": {
      "needs_background": "light"
     },
     "output_type": "display_data"
    }
   ],
   "source": [
    "train_df['Offset_fault'].hist()"
   ]
  },
  {
   "cell_type": "markdown",
   "id": "10468815",
   "metadata": {},
   "source": [
    "###### The target is imbalanced, so the data may need some over or under sampling."
   ]
  },
  {
   "cell_type": "markdown",
   "id": "6e8e1aaf",
   "metadata": {},
   "source": [
    "### Sensor1_PM2.5"
   ]
  },
  {
   "cell_type": "code",
   "execution_count": 14,
   "id": "f954e6b9",
   "metadata": {},
   "outputs": [
    {
     "data": {
      "text/plain": [
       "[]"
      ]
     },
     "execution_count": 14,
     "metadata": {},
     "output_type": "execute_result"
    },
    {
     "data": {
      "image/png": "[encoded data removed]",
      "text/plain": [
       "<Figure size 432x288 with 1 Axes>"
      ]
     },
     "metadata": {},
     "output_type": "display_data"
    }
   ],
   "source": [
    "sns.set()\n",
    "plt.hist(train_df[train_df['Offset_fault'] == 0]['Sensor1_PM2.5'], color='red', alpha = 0.3, label = 'NO')\n",
    "plt.hist(train_df[train_df['Offset_fault'] == 1]['Sensor1_PM2.5'], color='green', alpha=0.3, label = 'YES')\n",
    "plt.legend()\n",
    "plt.plot()"
   ]
  },
  {
   "cell_type": "markdown",
   "id": "e2bbc0dc",
   "metadata": {},
   "source": [
    "### Sensor2_PM2.5"
   ]
  },
  {
   "cell_type": "code",
   "execution_count": 15,
   "id": "37838e2e",
   "metadata": {},
   "outputs": [
    {
     "data": {
      "text/plain": [
       "[]"
      ]
     },
     "execution_count": 15,
     "metadata": {},
     "output_type": "execute_result"
    },
    {
     "data": {
      "image/png": "[encoded data removed]",
      "text/plain": [
       "<Figure size 432x288 with 1 Axes>"
      ]
     },
     "metadata": {},
     "output_type": "display_data"
    }
   ],
   "source": [
    "sns.set()\n",
    "plt.hist(train_df[train_df['Offset_fault'] == 0]['Sensor2_PM2.5'], color='red', alpha = 0.3, label = 'NO')\n",
    "plt.hist(train_df[train_df['Offset_fault'] == 1]['Sensor2_PM2.5'], color='green', alpha=0.3, label = 'YES')\n",
    "plt.legend()\n",
    "plt.plot()"
   ]
  },
  {
   "cell_type": "markdown",
   "id": "db20f8ea",
   "metadata": {},
   "source": [
    "### Sensor1_PM2.5 VS Sensor2_PM2.5"
   ]
  },
  {
   "cell_type": "code",
   "execution_count": 16,
   "id": "91d56adc",
   "metadata": {},
   "outputs": [
    {
     "data": {
      "image/png": "[encoded data removed]",
      "text/plain": [
       "<Figure size 864x576 with 4 Axes>"
      ]
     },
     "metadata": {},
     "output_type": "display_data"
    }
   ],
   "source": [
    "attributes = [\"Sensor1_PM2.5\", \"Sensor2_PM2.5\"]\n",
    "scatter_matrix(train_df[attributes], figsize=(12, 8));"
   ]
  },
  {
   "cell_type": "markdown",
   "id": "9cef34f2",
   "metadata": {},
   "source": [
    "###### These two features are strongly correlated which suggests that they measure the same thing."
   ]
  },
  {
   "cell_type": "markdown",
   "id": "26140dfc",
   "metadata": {},
   "source": [
    "### Datetime_year"
   ]
  },
  {
   "cell_type": "code",
   "execution_count": 17,
   "id": "935aeca1",
   "metadata": {},
   "outputs": [
    {
     "data": {
      "image/png": "[encoded data removed]",
      "text/plain": [
       "<Figure size 432x288 with 1 Axes>"
      ]
     },
     "metadata": {},
     "output_type": "display_data"
    }
   ],
   "source": [
    "sns.countplot( x='Offset_fault', data=train_df, hue=\"Datetime_year\", palette=\"Set1\");"
   ]
  },
  {
   "cell_type": "markdown",
   "id": "7cd5e56c",
   "metadata": {},
   "source": [
    "###### Most of the samples are from 2021. Let's check the months:"
   ]
  },
  {
   "cell_type": "markdown",
   "id": "799ddac2",
   "metadata": {},
   "source": [
    "### Datetime_month"
   ]
  },
  {
   "cell_type": "code",
   "execution_count": 18,
   "id": "6367f40e",
   "metadata": {},
   "outputs": [
    {
     "data": {
      "image/png": "[encoded data removed]",
      "text/plain": [
       "<Figure size 432x288 with 1 Axes>"
      ]
     },
     "metadata": {},
     "output_type": "display_data"
    }
   ],
   "source": [
    "sns.countplot( x='Offset_fault', data=train_df, hue=\"Datetime_month\", palette=\"Set1\");"
   ]
  },
  {
   "cell_type": "markdown",
   "id": "fa3df66b",
   "metadata": {},
   "source": [
    "###### The data were taken during the last three months of 2021 and the first month of 2022 which explains the low amount of samples in 2022."
   ]
  },
  {
   "cell_type": "markdown",
   "id": "59c5778f",
   "metadata": {},
   "source": [
    "###### Let's check the test data:"
   ]
  },
  {
   "cell_type": "code",
   "execution_count": 19,
   "id": "03052ac0",
   "metadata": {},
   "outputs": [
    {
     "data": {
      "text/plain": [
       "<AxesSubplot:xlabel='Datetime_year', ylabel='Count'>"
      ]
     },
     "execution_count": 19,
     "metadata": {},
     "output_type": "execute_result"
    },
    {
     "data": {
      "image/png": "[encoded data removed]",
      "text/plain": [
       "<Figure size 432x288 with 1 Axes>"
      ]
     },
     "metadata": {},
     "output_type": "display_data"
    }
   ],
   "source": [
    "sns.histplot(test_df['Datetime_year'])"
   ]
  },
  {
   "cell_type": "code",
   "execution_count": 20,
   "id": "5a70e8ea",
   "metadata": {},
   "outputs": [
    {
     "data": {
      "text/plain": [
       "<AxesSubplot:xlabel='Datetime_month', ylabel='Count'>"
      ]
     },
     "execution_count": 20,
     "metadata": {},
     "output_type": "execute_result"
    },
    {
     "data": {
      "image/png": "[encoded data removed]",
      "text/plain": [
       "<Figure size 432x288 with 1 Axes>"
      ]
     },
     "metadata": {},
     "output_type": "display_data"
    }
   ],
   "source": [
    "sns.histplot(test_df['Datetime_month'])"
   ]
  },
  {
   "cell_type": "markdown",
   "id": "dbd980ad",
   "metadata": {},
   "source": [
    "###### Well, it is clear that the whole dataset were taken between October 2021 and March 2022. Then it's been splited to a training and testing datasets. This would be important later to evaluate our model properly."
   ]
  },
  {
   "cell_type": "markdown",
   "id": "b9fa5108",
   "metadata": {},
   "source": [
    "### Datetime_day"
   ]
  },
  {
   "cell_type": "code",
   "execution_count": 21,
   "id": "a6789372",
   "metadata": {},
   "outputs": [
    {
     "data": {
      "image/png": "[encoded data removed]",
      "text/plain": [
       "<Figure size 432x288 with 1 Axes>"
      ]
     },
     "metadata": {},
     "output_type": "display_data"
    }
   ],
   "source": [
    "sns.countplot( x='Datetime_day', data=train_df, hue=\"Offset_fault\", palette=\"Set1\");"
   ]
  },
  {
   "cell_type": "markdown",
   "id": "b2a7c927",
   "metadata": {},
   "source": [
    "###### It looks like many samples were taken between 15 and 20 of each month."
   ]
  },
  {
   "cell_type": "markdown",
   "id": "b4e2696d",
   "metadata": {},
   "source": [
    "### Datetime_hour"
   ]
  },
  {
   "cell_type": "code",
   "execution_count": 22,
   "id": "adbc65a6",
   "metadata": {
    "scrolled": true
   },
   "outputs": [
    {
     "data": {
      "image/png": "[encoded data removed]",
      "text/plain": [
       "<Figure size 432x288 with 1 Axes>"
      ]
     },
     "metadata": {},
     "output_type": "display_data"
    }
   ],
   "source": [
    "sns.countplot( x='Datetime_hour', data=train_df, hue=\"Offset_fault\", palette=\"Set1\");"
   ]
  },
  {
   "cell_type": "markdown",
   "id": "2a993afe",
   "metadata": {},
   "source": [
    "###### It is distibuted uniformly so no strange trends."
   ]
  },
  {
   "cell_type": "markdown",
   "id": "2f865875",
   "metadata": {},
   "source": [
    "### Temperature --- Datetime_month"
   ]
  },
  {
   "cell_type": "code",
   "execution_count": 23,
   "id": "e01ab20f",
   "metadata": {},
   "outputs": [
    {
     "data": {
      "text/plain": [
       "[]"
      ]
     },
     "execution_count": 23,
     "metadata": {},
     "output_type": "execute_result"
    },
    {
     "data": {
      "image/png": "[encoded data removed]",
      "text/plain": [
       "<Figure size 432x288 with 1 Axes>"
      ]
     },
     "metadata": {},
     "output_type": "display_data"
    }
   ],
   "source": [
    "sns.set()\n",
    "plt.hist(train_df[train_df['Datetime_month'] == 10].Temperature, color='red', alpha = 0.3, label = 10)\n",
    "plt.hist(train_df[train_df['Datetime_month'] == 11].Temperature, color='green', alpha=0.3, label = 11)\n",
    "plt.hist(train_df[train_df['Datetime_month'] == 12].Temperature, color='blue', alpha=0.3, label = 12)\n",
    "plt.hist(train_df[train_df['Datetime_month'] == 1].Temperature, color='purple', alpha=0.3, label = 1)\n",
    "plt.legend()\n",
    "plt.plot()"
   ]
  },
  {
   "cell_type": "markdown",
   "id": "a8627fe2",
   "metadata": {},
   "source": [
    "###### The temperature for all months is almost identical with a small increase in January."
   ]
  },
  {
   "cell_type": "markdown",
   "id": "f46e388c",
   "metadata": {},
   "source": [
    "# Data preprocessing"
   ]
  },
  {
   "cell_type": "markdown",
   "id": "9593a818",
   "metadata": {},
   "source": [
    "## Missing Values"
   ]
  },
  {
   "cell_type": "code",
   "execution_count": 24,
   "id": "5de84649",
   "metadata": {
    "scrolled": false
   },
   "outputs": [
    {
     "data": {
      "text/html": [
       "<div>\n",
       "<style scoped>\n",
       "    .dataframe tbody tr th:only-of-type {\n",
       "        vertical-align: middle;\n",
       "    }\n",
       "\n",
       "    .dataframe tbody tr th {\n",
       "        vertical-align: top;\n",
       "    }\n",
       "\n",
       "    .dataframe thead th {\n",
       "        text-align: right;\n",
       "    }\n",
       "</style>\n",
       "<table border=\"1\" class=\"dataframe\">\n",
       "  <thead>\n",
       "    <tr style=\"text-align: right;\">\n",
       "      <th></th>\n",
       "      <th>Total</th>\n",
       "      <th>%</th>\n",
       "    </tr>\n",
       "  </thead>\n",
       "  <tbody>\n",
       "    <tr>\n",
       "      <th>Sensor1_PM2.5</th>\n",
       "      <td>3614</td>\n",
       "      <td>1.2</td>\n",
       "    </tr>\n",
       "    <tr>\n",
       "      <th>Sensor2_PM2.5</th>\n",
       "      <td>3614</td>\n",
       "      <td>1.2</td>\n",
       "    </tr>\n",
       "    <tr>\n",
       "      <th>Temperature</th>\n",
       "      <td>3549</td>\n",
       "      <td>1.2</td>\n",
       "    </tr>\n",
       "    <tr>\n",
       "      <th>Relative_Humidity</th>\n",
       "      <td>3549</td>\n",
       "      <td>1.2</td>\n",
       "    </tr>\n",
       "    <tr>\n",
       "      <th>ID</th>\n",
       "      <td>0</td>\n",
       "      <td>0.0</td>\n",
       "    </tr>\n",
       "    <tr>\n",
       "      <th>Offset_fault</th>\n",
       "      <td>0</td>\n",
       "      <td>0.0</td>\n",
       "    </tr>\n",
       "    <tr>\n",
       "      <th>Datetime_day</th>\n",
       "      <td>0</td>\n",
       "      <td>0.0</td>\n",
       "    </tr>\n",
       "    <tr>\n",
       "      <th>Datetime_month</th>\n",
       "      <td>0</td>\n",
       "      <td>0.0</td>\n",
       "    </tr>\n",
       "    <tr>\n",
       "      <th>Datetime_year</th>\n",
       "      <td>0</td>\n",
       "      <td>0.0</td>\n",
       "    </tr>\n",
       "    <tr>\n",
       "      <th>Datetime_hour</th>\n",
       "      <td>0</td>\n",
       "      <td>0.0</td>\n",
       "    </tr>\n",
       "    <tr>\n",
       "      <th>Datetime_minute</th>\n",
       "      <td>0</td>\n",
       "      <td>0.0</td>\n",
       "    </tr>\n",
       "    <tr>\n",
       "      <th>Datetime_seconds</th>\n",
       "      <td>0</td>\n",
       "      <td>0.0</td>\n",
       "    </tr>\n",
       "    <tr>\n",
       "      <th>Datetime_day_of_year</th>\n",
       "      <td>0</td>\n",
       "      <td>0.0</td>\n",
       "    </tr>\n",
       "    <tr>\n",
       "      <th>Datetime_day_of_week</th>\n",
       "      <td>0</td>\n",
       "      <td>0.0</td>\n",
       "    </tr>\n",
       "    <tr>\n",
       "      <th>Datetime_week_of_year</th>\n",
       "      <td>0</td>\n",
       "      <td>0.0</td>\n",
       "    </tr>\n",
       "  </tbody>\n",
       "</table>\n",
       "</div>"
      ],
      "text/plain": [
       "                       Total    %\n",
       "Sensor1_PM2.5           3614  1.2\n",
       "Sensor2_PM2.5           3614  1.2\n",
       "Temperature             3549  1.2\n",
       "Relative_Humidity       3549  1.2\n",
       "ID                         0  0.0\n",
       "Offset_fault               0  0.0\n",
       "Datetime_day               0  0.0\n",
       "Datetime_month             0  0.0\n",
       "Datetime_year              0  0.0\n",
       "Datetime_hour              0  0.0\n",
       "Datetime_minute            0  0.0\n",
       "Datetime_seconds           0  0.0\n",
       "Datetime_day_of_year       0  0.0\n",
       "Datetime_day_of_week       0  0.0\n",
       "Datetime_week_of_year      0  0.0"
      ]
     },
     "execution_count": 24,
     "metadata": {},
     "output_type": "execute_result"
    }
   ],
   "source": [
    "#missing data percentage (Training)\n",
    "total = train_df.isnull().sum().sort_values(ascending=False)\n",
    "percent_1 = train_df.isnull().sum()/train_df.isnull().count()*100\n",
    "percent_2 = (round(percent_1, 1)).sort_values(ascending=False)\n",
    "missing_data = pd.concat([total, percent_2], axis=1, keys=['Total', '%'])\n",
    "missing_data"
   ]
  },
  {
   "cell_type": "code",
   "execution_count": 25,
   "id": "2f23d16d",
   "metadata": {
    "scrolled": false
   },
   "outputs": [
    {
     "data": {
      "text/html": [
       "<div>\n",
       "<style scoped>\n",
       "    .dataframe tbody tr th:only-of-type {\n",
       "        vertical-align: middle;\n",
       "    }\n",
       "\n",
       "    .dataframe tbody tr th {\n",
       "        vertical-align: top;\n",
       "    }\n",
       "\n",
       "    .dataframe thead th {\n",
       "        text-align: right;\n",
       "    }\n",
       "</style>\n",
       "<table border=\"1\" class=\"dataframe\">\n",
       "  <thead>\n",
       "    <tr style=\"text-align: right;\">\n",
       "      <th></th>\n",
       "      <th>Total</th>\n",
       "      <th>%</th>\n",
       "    </tr>\n",
       "  </thead>\n",
       "  <tbody>\n",
       "    <tr>\n",
       "      <th>Temperature</th>\n",
       "      <td>88090</td>\n",
       "      <td>69.2</td>\n",
       "    </tr>\n",
       "    <tr>\n",
       "      <th>Relative_Humidity</th>\n",
       "      <td>88090</td>\n",
       "      <td>69.2</td>\n",
       "    </tr>\n",
       "    <tr>\n",
       "      <th>ID</th>\n",
       "      <td>0</td>\n",
       "      <td>0.0</td>\n",
       "    </tr>\n",
       "    <tr>\n",
       "      <th>Sensor1_PM2.5</th>\n",
       "      <td>0</td>\n",
       "      <td>0.0</td>\n",
       "    </tr>\n",
       "    <tr>\n",
       "      <th>Sensor2_PM2.5</th>\n",
       "      <td>0</td>\n",
       "      <td>0.0</td>\n",
       "    </tr>\n",
       "    <tr>\n",
       "      <th>Datetime_day</th>\n",
       "      <td>0</td>\n",
       "      <td>0.0</td>\n",
       "    </tr>\n",
       "    <tr>\n",
       "      <th>Datetime_month</th>\n",
       "      <td>0</td>\n",
       "      <td>0.0</td>\n",
       "    </tr>\n",
       "    <tr>\n",
       "      <th>Datetime_year</th>\n",
       "      <td>0</td>\n",
       "      <td>0.0</td>\n",
       "    </tr>\n",
       "    <tr>\n",
       "      <th>Datetime_hour</th>\n",
       "      <td>0</td>\n",
       "      <td>0.0</td>\n",
       "    </tr>\n",
       "    <tr>\n",
       "      <th>Datetime_minute</th>\n",
       "      <td>0</td>\n",
       "      <td>0.0</td>\n",
       "    </tr>\n",
       "    <tr>\n",
       "      <th>Datetime_seconds</th>\n",
       "      <td>0</td>\n",
       "      <td>0.0</td>\n",
       "    </tr>\n",
       "    <tr>\n",
       "      <th>Datetime_day_of_year</th>\n",
       "      <td>0</td>\n",
       "      <td>0.0</td>\n",
       "    </tr>\n",
       "    <tr>\n",
       "      <th>Datetime_day_of_week</th>\n",
       "      <td>0</td>\n",
       "      <td>0.0</td>\n",
       "    </tr>\n",
       "    <tr>\n",
       "      <th>Datetime_week_of_year</th>\n",
       "      <td>0</td>\n",
       "      <td>0.0</td>\n",
       "    </tr>\n",
       "  </tbody>\n",
       "</table>\n",
       "</div>"
      ],
      "text/plain": [
       "                       Total     %\n",
       "Temperature            88090  69.2\n",
       "Relative_Humidity      88090  69.2\n",
       "ID                         0   0.0\n",
       "Sensor1_PM2.5              0   0.0\n",
       "Sensor2_PM2.5              0   0.0\n",
       "Datetime_day               0   0.0\n",
       "Datetime_month             0   0.0\n",
       "Datetime_year              0   0.0\n",
       "Datetime_hour              0   0.0\n",
       "Datetime_minute            0   0.0\n",
       "Datetime_seconds           0   0.0\n",
       "Datetime_day_of_year       0   0.0\n",
       "Datetime_day_of_week       0   0.0\n",
       "Datetime_week_of_year      0   0.0"
      ]
     },
     "execution_count": 25,
     "metadata": {},
     "output_type": "execute_result"
    }
   ],
   "source": [
    "#missing data percentage (Testing)\n",
    "total = test_df.isnull().sum().sort_values(ascending=False)\n",
    "percent_1 = test_df.isnull().sum()/test_df.isnull().count()*100\n",
    "percent_2 = (round(percent_1, 1)).sort_values(ascending=False)\n",
    "missing_data = pd.concat([total, percent_2], axis=1, keys=['Total', '%'])\n",
    "missing_data"
   ]
  },
  {
   "cell_type": "markdown",
   "id": "cd177f80",
   "metadata": {},
   "source": [
    "### Using a Moving Window algorithm to impute the missing values"
   ]
  },
  {
   "cell_type": "code",
   "execution_count": 27,
   "id": "11b5431f",
   "metadata": {},
   "outputs": [],
   "source": [
    "feats = ['Relative_Humidity','Temperature','Sensor1_PM2.5','Sensor2_PM2.5']\n",
    "for dataset in (train_df,test_df):\n",
    "    dataset[feats] = np.log(dataset[feats]+1)\n",
    "    dataset[feats] = impy.moving_window(dataset[feats].to_numpy())"
   ]
  },
  {
   "cell_type": "markdown",
   "id": "0de8cf90",
   "metadata": {},
   "source": [
    "# Feature Engineering"
   ]
  },
  {
   "cell_type": "markdown",
   "id": "1db9610f",
   "metadata": {},
   "source": [
    "### Drop the 'ID' Column"
   ]
  },
  {
   "cell_type": "code",
   "execution_count": 28,
   "id": "b81d9dfb",
   "metadata": {},
   "outputs": [],
   "source": [
    "for dataset in (train_df,test_df):\n",
    "    dataset.drop('ID',axis=1,inplace=True)"
   ]
  },
  {
   "cell_type": "markdown",
   "id": "7186fca5",
   "metadata": {},
   "source": [
    "## Let's add some new features"
   ]
  },
  {
   "cell_type": "markdown",
   "id": "45683e40",
   "metadata": {},
   "source": [
    "### Make two new features that categorise the values of the sensors"
   ]
  },
  {
   "cell_type": "code",
   "execution_count": 30,
   "id": "fba1db7d",
   "metadata": {},
   "outputs": [],
   "source": [
    "for dataset in (train_df,test_df):\n",
    "    dataset[\"Sensor1_bins\"] = pd.cut(dataset[\"Sensor1_PM2.5\"], bins=[-np.inf, 3.0, 3.5, 4.0, np.inf], labels=[1, 2, 3, 4])\n",
    "    dataset[\"Sensor2_bins\"] = pd.cut(dataset[\"Sensor2_PM2.5\"], bins=[-np.inf, 3.0, 3.5, 4.0, np.inf], labels=[1, 2, 3, 4])"
   ]
  },
  {
   "cell_type": "markdown",
   "id": "6d46b37a",
   "metadata": {},
   "source": [
    "### The ratio between the values of the sensors"
   ]
  },
  {
   "cell_type": "code",
   "execution_count": 31,
   "id": "99fb46da",
   "metadata": {},
   "outputs": [],
   "source": [
    "for dataset in (train_df,test_df):\n",
    "    dataset['S1_S2'] = dataset['Sensor1_PM2.5'] - dataset['Sensor2_PM2.5']  #Note that these are the logs of values, so\n",
    "                                                                            #we used subtraction"
   ]
  },
  {
   "cell_type": "markdown",
   "id": "ede7d38d",
   "metadata": {},
   "source": [
    "### Is weekend?"
   ]
  },
  {
   "cell_type": "code",
   "execution_count": 32,
   "id": "67f70b2c",
   "metadata": {},
   "outputs": [],
   "source": [
    "for dataset in (train_df,test_df):\n",
    "    dataset['IsWeekend?'] = (dataset['Datetime_day_of_week'] >= 5)"
   ]
  },
  {
   "cell_type": "markdown",
   "id": "891b192d",
   "metadata": {},
   "source": [
    "### Is official hours?"
   ]
  },
  {
   "cell_type": "code",
   "execution_count": 33,
   "id": "2d4417a9",
   "metadata": {},
   "outputs": [],
   "source": [
    "for dataset in (train_df,test_df):\n",
    "    dataset['IsOfficialHours?'] = (dataset['Datetime_hour'] >= 8) & (dataset['Datetime_hour'] <= 17)"
   ]
  },
  {
   "cell_type": "markdown",
   "id": "9e9cb936",
   "metadata": {},
   "source": [
    "### Time in the day"
   ]
  },
  {
   "cell_type": "code",
   "execution_count": 34,
   "id": "c235316a",
   "metadata": {},
   "outputs": [],
   "source": [
    "for dataset in (train_df,test_df):\n",
    "    dataset[\"Time_in_day\"] = pd.cut(dataset[\"Datetime_hour\"], bins=[-np.inf, 5.0, 11.0, 17.0, 23.0], \n",
    "                                    labels=['Midnight', 'Morning', 'Afternoon', 'Evening'])"
   ]
  },
  {
   "cell_type": "markdown",
   "id": "7d3f4bfb",
   "metadata": {},
   "source": [
    "### Is Hot Day?"
   ]
  },
  {
   "cell_type": "code",
   "execution_count": 35,
   "id": "21d070f8",
   "metadata": {},
   "outputs": [],
   "source": [
    "for dataset in (train_df,test_df):\n",
    "    dataset['IsHot?'] = dataset['Temperature'] > dataset['Temperature'].mean()"
   ]
  },
  {
   "cell_type": "markdown",
   "id": "3e3b530c",
   "metadata": {},
   "source": [
    "### Heat index (a measure from Physics)"
   ]
  },
  {
   "cell_type": "code",
   "execution_count": 36,
   "id": "5aa2f48a",
   "metadata": {},
   "outputs": [],
   "source": [
    "c1,c2,c3,c4,c5,c6,c7,c8,c9 = -42.379,-2.04901523,-10.14333127,-0.22475541, \\\n",
    "                            -0.00683783,-0.05481717,-0.00122874,0.00085282,-0.00000199\n",
    "for dataset in (train_df,test_df):\n",
    "    dataset['Heat_index'] = c1 + c2 * dataset['Temperature'] + c3 * dataset['Relative_Humidity'] + \\\n",
    "                            c4 * dataset['Temperature'] * dataset['Relative_Humidity'] + \\\n",
    "                            c5 * (dataset['Temperature']**2) + c6 * (dataset['Relative_Humidity']**2) + \\\n",
    "                            c7 * (dataset['Temperature']**2) * dataset['Relative_Humidity'] + \\\n",
    "                            c8 * (dataset['Relative_Humidity']**2) * dataset['Temperature'] + \\\n",
    "                            c9 * (dataset['Temperature']**2) * (dataset['Relative_Humidity']**2)"
   ]
  },
  {
   "cell_type": "markdown",
   "id": "4f19babd",
   "metadata": {},
   "source": [
    "### Sort the data to help in evaluating the model properly later"
   ]
  },
  {
   "cell_type": "code",
   "execution_count": 37,
   "id": "4bbeabf5",
   "metadata": {},
   "outputs": [],
   "source": [
    "train_df = train_df.sort_values(by = ['Datetime_year','Datetime_month','Datetime_day',\n",
    "                                      'Datetime_hour'])\n",
    "test_df = test_df.sort_values(by = ['Datetime_year','Datetime_month','Datetime_day',\n",
    "                                      'Datetime_hour'])"
   ]
  },
  {
   "cell_type": "markdown",
   "id": "1cc59d3a",
   "metadata": {},
   "source": [
    "# Encoding"
   ]
  },
  {
   "cell_type": "markdown",
   "id": "1db82692",
   "metadata": {},
   "source": [
    "### Target Encoder"
   ]
  },
  {
   "cell_type": "code",
   "execution_count": 38,
   "id": "4b5589b6",
   "metadata": {},
   "outputs": [],
   "source": [
    "from category_encoders import TargetEncoder\n",
    "encoder = TargetEncoder(smoothing = 1.0)\n",
    "cats = train_df.columns\n",
    "cats = np.delete(cats,[0,1,2,3,4,21])\n",
    "train_df[cats] = encoder.fit_transform(train_df[cats], train_df['Offset_fault'])\n",
    "test_df[cats] = encoder.transform(test_df[cats])"
   ]
  },
  {
   "cell_type": "markdown",
   "id": "6e4d652f",
   "metadata": {},
   "source": [
    "# Checking the correlations"
   ]
  },
  {
   "cell_type": "code",
   "execution_count": 45,
   "id": "ffb36dc3",
   "metadata": {
    "scrolled": false
   },
   "outputs": [
    {
     "data": {
      "image/png": "[encoded data removed]",
      "text/plain": [
       "<Figure size 432x288 with 2 Axes>"
      ]
     },
     "metadata": {},
     "output_type": "display_data"
    }
   ],
   "source": [
    "corr_matrix = train_df.corr()\n",
    "sns.heatmap(corr_matrix);"
   ]
  },
  {
   "cell_type": "markdown",
   "id": "fe709f07",
   "metadata": {},
   "source": [
    "# Oversampling using SMOTE"
   ]
  },
  {
   "cell_type": "code",
   "execution_count": 40,
   "id": "3fcfb239",
   "metadata": {},
   "outputs": [],
   "source": [
    "X = train_df.drop('Offset_fault',axis=1)\n",
    "y = train_df['Offset_fault']"
   ]
  },
  {
   "cell_type": "code",
   "execution_count": 41,
   "id": "15021667",
   "metadata": {},
   "outputs": [],
   "source": [
    "OvSa = imblearn.over_sampling.SMOTE(random_state=42)\n",
    "X,y = OvSa.fit_resample(X,y)"
   ]
  },
  {
   "cell_type": "markdown",
   "id": "3105b273",
   "metadata": {},
   "source": [
    "# ML Modeling"
   ]
  },
  {
   "cell_type": "markdown",
   "id": "c4729c14",
   "metadata": {},
   "source": [
    "## Define the model"
   ]
  },
  {
   "cell_type": "code",
   "execution_count": 42,
   "id": "0c3bc5d3",
   "metadata": {},
   "outputs": [],
   "source": [
    "params = {'n_estimators': 1040, 'max_depth': 3, 'reg_lambda': 0.16661201237472856, \n",
    "          'colsample_bytree': 0.9064439932687255, 'num_leaves': 450, \n",
    "          'min_child_samples': 21, 'subsample': 0.5564713817638391, 'random_state':0}\n",
    "lgbm = LGBMClassifier(**params)"
   ]
  },
  {
   "cell_type": "markdown",
   "id": "43b8dce2",
   "metadata": {},
   "source": [
    "## Evaluating on the test set"
   ]
  },
  {
   "cell_type": "markdown",
   "id": "0fb39c6b",
   "metadata": {},
   "source": [
    "#### We will use Roll-forward Window Cross-validation to evaluate our model"
   ]
  },
  {
   "cell_type": "code",
   "execution_count": 43,
   "id": "cac2797e",
   "metadata": {},
   "outputs": [
    {
     "name": "stdout",
     "output_type": "stream",
     "text": [
      "TRAIN: [    0     1     2 ... 62298 62299 62300] TEST: [ 62301  62302  62303 ... 124599 124600 124601]\n",
      "TRAIN: [     0      1      2 ... 124599 124600 124601] TEST: [124602 124603 124604 ... 186900 186901 186902]\n",
      "TRAIN: [     0      1      2 ... 186900 186901 186902] TEST: [186903 186904 186905 ... 249201 249202 249203]\n",
      "TRAIN: [     0      1      2 ... 249201 249202 249203] TEST: [249204 249205 249206 ... 311502 311503 311504]\n",
      "TRAIN: [     0      1      2 ... 311502 311503 311504] TEST: [311505 311506 311507 ... 373803 373804 373805]\n",
      "Scores: [0.9478981075745173, 0.8460698865186754, 0.8477552527246753, 0.8556042439126178, 0.9835315645013724]\n"
     ]
    }
   ],
   "source": [
    "X_m = X.values\n",
    "y_m = y.values\n",
    "\n",
    "tscv = TimeSeriesSplit(n_splits=5)\n",
    "scores = []\n",
    "\n",
    "for train_index, test_index in tscv.split(X_m):\n",
    "    print(\"TRAIN:\", train_index, \"TEST:\", test_index)\n",
    "    X_Train, X_Test = X_m[train_index], X_m[test_index]\n",
    "    y_Train, y_Test = y_m[train_index], y_m[test_index]\n",
    "    lgbm.fit(X_Train,y_Train)\n",
    "    y_pred = lgbm.predict(X_Test)\n",
    "    scores.append(accuracy_score(y_pred,y_Test))\n",
    "    \n",
    "print(\"Scores:\", scores)"
   ]
  },
  {
   "cell_type": "markdown",
   "id": "6453036f",
   "metadata": {},
   "source": [
    "### Final Submission"
   ]
  },
  {
   "cell_type": "code",
   "execution_count": 44,
   "id": "93041ca5",
   "metadata": {
    "scrolled": true
   },
   "outputs": [],
   "source": [
    "lgbm.fit(X, y)\n",
    "test_df['Offset_fault'] = lgbm.predict(test_df)\n",
    "submission = pd.DataFrame({\"ID\": ID ,\"Offset_fault\": test_df.Offset_fault})\n",
    "submission.to_csv('FaultySensors.csv',index=False)"
   ]
  }
 ],
 "metadata": {
  "kernelspec": {
   "display_name": "Python 3",
   "language": "python",
   "name": "python3"
  },
  "language_info": {
   "codemirror_mode": {
    "name": "ipython",
    "version": 3
   },
   "file_extension": ".py",
   "mimetype": "text/x-python",
   "name": "python",
   "nbconvert_exporter": "python",
   "pygments_lexer": "ipython3",
   "version": "3.8.8"
  }
 },
 "nbformat": 4,
 "nbformat_minor": 5
}
