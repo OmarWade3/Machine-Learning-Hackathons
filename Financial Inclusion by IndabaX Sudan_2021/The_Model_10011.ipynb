{
  "nbformat": 4,
  "nbformat_minor": 0,
  "metadata": {
    "colab": {
      "name": "[10011] Financial Inclusion by IndabaX Sudan 2021.ipynb",
      "provenance": [],
      "collapsed_sections": []
    },
    "kernelspec": {
      "display_name": "Python 3",
      "name": "python3"
    },
    "language_info": {
      "name": "python"
    }
  },
  "cells": [
    {
      "cell_type": "markdown",
      "metadata": {
        "id": "w1YQqlECeZWX"
      },
      "source": [
        "#**Financial Inclusion by IndabaX Sudan 2021 (Hackathon)**\n",
        "\n",
        "# **Team: 10011**"
      ]
    },
    {
      "cell_type": "markdown",
      "metadata": {
        "id": "LNNO13j4Oc4n"
      },
      "source": [
        "## **Imports**"
      ]
    },
    {
      "cell_type": "code",
      "metadata": {
        "id": "QPtfjDG6OV5P"
      },
      "source": [
        "import pandas as pd\n",
        "import numpy as np\n",
        "from sklearn.preprocessing import LabelBinarizer\n",
        "from sklearn.model_selection import train_test_split\n",
        "from sklearn.metrics import mean_absolute_error\n",
        "from xgboost import XGBClassifier\n",
        "from scipy import stats\n",
        "from sklearn.model_selection import cross_validate\n",
        "from sklearn.metrics import confusion_matrix\n",
        "from sklearn.model_selection import cross_val_score"
      ],
      "execution_count": 10,
      "outputs": []
    },
    {
      "cell_type": "markdown",
      "metadata": {
        "id": "46X_de25Qaih"
      },
      "source": [
        "## **Preprocessing and Encoding**"
      ]
    },
    {
      "cell_type": "code",
      "metadata": {
        "id": "2jxYy5SmRBD3"
      },
      "source": [
        "def transform(df):\n",
        "\n",
        "    #Getting rid of outliers that have z-scores >= 2 in the numerical variables:\n",
        "\n",
        "    if (len(df.columns) == 13):  #13 is the number of columns in the training set\n",
        "          z_score_age = stats.zscore(df['age_of_respondent'])\n",
        "          absolute_z_score_age = np.abs(z_score_age)\n",
        "          z_score_size = stats.zscore(df['household_size'])\n",
        "          absolute_z_score_size = np.abs(z_score_size)\n",
        "\n",
        "          for row in df.index:\n",
        "              if ((z_score_age[row] >= 2) or (z_score_size[row] >= 2)):\n",
        "                df.drop(axis=1,index=row,inplace=True)\n",
        "    #The choice of the number 2 comes from the fact that in these two features \n",
        "    #we have the mean almost equals the median which can be thought as a normal \n",
        "    #distribution then,the Empirical Rule from Statistics implies that almost \n",
        "    #95% of the data lies within 2 z-scores\n",
        "\n",
        "\n",
        "    #Dealing with the categorical features\n",
        "    cols = ['location_type', 'year',  'cellphone_access', 'household_size', 'age_of_respondent', 'gender_of_respondent']\n",
        "    X = df[cols].copy()\n",
        "\n",
        "    #Converting features that have two unique elements from object-type to binary-type \n",
        "    lb = LabelBinarizer()\n",
        "    X['cellphone_access'] = lb.fit_transform(X['cellphone_access'])\n",
        "    X['location_type'] = lb.fit_transform(X['location_type'])\n",
        "    X['gender_of_respondent'] = lb.fit_transform(X['gender_of_respondent'])\n",
        "    \n",
        "    #Converting features that have more than two unique elements to multiple dummy variables\n",
        "    categorical_cols = ['job_type', 'education_level', 'country', 'marital_status','year']\n",
        "    X_cat = pd.get_dummies(df[categorical_cols])\n",
        "    New_df = pd.merge(X, X_cat, how='inner', left_index=True, right_index=True)\n",
        "    assert(len(X) == len(New_df))\n",
        "    \n",
        "    return New_df"
      ],
      "execution_count": 11,
      "outputs": []
    },
    {
      "cell_type": "markdown",
      "metadata": {
        "id": "0KxKB06qC8Oo"
      },
      "source": [
        "## **Preparing the Data**"
      ]
    },
    {
      "cell_type": "code",
      "metadata": {
        "id": "x7hCTfCpC4jI"
      },
      "source": [
        "#Getting the Datasets\n",
        "Train_Data = pd.read_csv('Data/Train.csv')\n",
        "Test_Data = pd.read_csv('Data/Test.csv')"
      ],
      "execution_count": 12,
      "outputs": []
    },
    {
      "cell_type": "code",
      "metadata": {
        "colab": {
          "base_uri": "https://localhost:8080/",
          "height": 326
        },
        "id": "b5PISmqYDH-Q",
        "outputId": "68f298f2-97d6-4369-983a-5ebcc67f4a48"
      },
      "source": [
        "#Having a look into the data\n",
        "Train_Data.head()"
      ],
      "execution_count": 13,
      "outputs": [
        {
          "output_type": "execute_result",
          "data": {
            "text/html": [
              "<div>\n",
              "<style scoped>\n",
              "    .dataframe tbody tr th:only-of-type {\n",
              "        vertical-align: middle;\n",
              "    }\n",
              "\n",
              "    .dataframe tbody tr th {\n",
              "        vertical-align: top;\n",
              "    }\n",
              "\n",
              "    .dataframe thead th {\n",
              "        text-align: right;\n",
              "    }\n",
              "</style>\n",
              "<table border=\"1\" class=\"dataframe\">\n",
              "  <thead>\n",
              "    <tr style=\"text-align: right;\">\n",
              "      <th></th>\n",
              "      <th>country</th>\n",
              "      <th>year</th>\n",
              "      <th>uniqueid</th>\n",
              "      <th>bank_account</th>\n",
              "      <th>location_type</th>\n",
              "      <th>cellphone_access</th>\n",
              "      <th>household_size</th>\n",
              "      <th>age_of_respondent</th>\n",
              "      <th>gender_of_respondent</th>\n",
              "      <th>relationship_with_head</th>\n",
              "      <th>marital_status</th>\n",
              "      <th>education_level</th>\n",
              "      <th>job_type</th>\n",
              "    </tr>\n",
              "  </thead>\n",
              "  <tbody>\n",
              "    <tr>\n",
              "      <th>0</th>\n",
              "      <td>Kenya</td>\n",
              "      <td>2018</td>\n",
              "      <td>uniqueid_1</td>\n",
              "      <td>Yes</td>\n",
              "      <td>Rural</td>\n",
              "      <td>Yes</td>\n",
              "      <td>3</td>\n",
              "      <td>24</td>\n",
              "      <td>Female</td>\n",
              "      <td>Spouse</td>\n",
              "      <td>Married/Living together</td>\n",
              "      <td>Secondary education</td>\n",
              "      <td>Self employed</td>\n",
              "    </tr>\n",
              "    <tr>\n",
              "      <th>1</th>\n",
              "      <td>Kenya</td>\n",
              "      <td>2018</td>\n",
              "      <td>uniqueid_2</td>\n",
              "      <td>No</td>\n",
              "      <td>Rural</td>\n",
              "      <td>No</td>\n",
              "      <td>5</td>\n",
              "      <td>70</td>\n",
              "      <td>Female</td>\n",
              "      <td>Head of Household</td>\n",
              "      <td>Widowed</td>\n",
              "      <td>No formal education</td>\n",
              "      <td>Government Dependent</td>\n",
              "    </tr>\n",
              "    <tr>\n",
              "      <th>2</th>\n",
              "      <td>Kenya</td>\n",
              "      <td>2018</td>\n",
              "      <td>uniqueid_3</td>\n",
              "      <td>Yes</td>\n",
              "      <td>Urban</td>\n",
              "      <td>Yes</td>\n",
              "      <td>5</td>\n",
              "      <td>26</td>\n",
              "      <td>Male</td>\n",
              "      <td>Other relative</td>\n",
              "      <td>Single/Never Married</td>\n",
              "      <td>Vocational/Specialised training</td>\n",
              "      <td>Self employed</td>\n",
              "    </tr>\n",
              "    <tr>\n",
              "      <th>3</th>\n",
              "      <td>Kenya</td>\n",
              "      <td>2018</td>\n",
              "      <td>uniqueid_4</td>\n",
              "      <td>No</td>\n",
              "      <td>Rural</td>\n",
              "      <td>Yes</td>\n",
              "      <td>5</td>\n",
              "      <td>34</td>\n",
              "      <td>Female</td>\n",
              "      <td>Head of Household</td>\n",
              "      <td>Married/Living together</td>\n",
              "      <td>Primary education</td>\n",
              "      <td>Formally employed Private</td>\n",
              "    </tr>\n",
              "    <tr>\n",
              "      <th>4</th>\n",
              "      <td>Kenya</td>\n",
              "      <td>2018</td>\n",
              "      <td>uniqueid_5</td>\n",
              "      <td>No</td>\n",
              "      <td>Urban</td>\n",
              "      <td>No</td>\n",
              "      <td>8</td>\n",
              "      <td>26</td>\n",
              "      <td>Male</td>\n",
              "      <td>Child</td>\n",
              "      <td>Single/Never Married</td>\n",
              "      <td>Primary education</td>\n",
              "      <td>Informally employed</td>\n",
              "    </tr>\n",
              "  </tbody>\n",
              "</table>\n",
              "</div>"
            ],
            "text/plain": [
              "  country  year  ...                  education_level                   job_type\n",
              "0   Kenya  2018  ...              Secondary education              Self employed\n",
              "1   Kenya  2018  ...              No formal education       Government Dependent\n",
              "2   Kenya  2018  ...  Vocational/Specialised training              Self employed\n",
              "3   Kenya  2018  ...                Primary education  Formally employed Private\n",
              "4   Kenya  2018  ...                Primary education        Informally employed\n",
              "\n",
              "[5 rows x 13 columns]"
            ]
          },
          "metadata": {},
          "execution_count": 13
        }
      ]
    },
    {
      "cell_type": "code",
      "metadata": {
        "colab": {
          "base_uri": "https://localhost:8080/"
        },
        "id": "mzwPz7jSEXLF",
        "outputId": "67d8e4f6-8c63-4204-831e-668728495c41"
      },
      "source": [
        "#Having a look into the features (No missing values).\n",
        "#As that the feature 'year' has just 3 unique values, \n",
        "#it can be considered as a categorical variable\n",
        "Train_Data.info()"
      ],
      "execution_count": 14,
      "outputs": [
        {
          "output_type": "stream",
          "name": "stdout",
          "text": [
            "<class 'pandas.core.frame.DataFrame'>\n",
            "RangeIndex: 23524 entries, 0 to 23523\n",
            "Data columns (total 13 columns):\n",
            " #   Column                  Non-Null Count  Dtype \n",
            "---  ------                  --------------  ----- \n",
            " 0   country                 23524 non-null  object\n",
            " 1   year                    23524 non-null  int64 \n",
            " 2   uniqueid                23524 non-null  object\n",
            " 3   bank_account            23524 non-null  object\n",
            " 4   location_type           23524 non-null  object\n",
            " 5   cellphone_access        23524 non-null  object\n",
            " 6   household_size          23524 non-null  int64 \n",
            " 7   age_of_respondent       23524 non-null  int64 \n",
            " 8   gender_of_respondent    23524 non-null  object\n",
            " 9   relationship_with_head  23524 non-null  object\n",
            " 10  marital_status          23524 non-null  object\n",
            " 11  education_level         23524 non-null  object\n",
            " 12  job_type                23524 non-null  object\n",
            "dtypes: int64(3), object(10)\n",
            "memory usage: 2.3+ MB\n"
          ]
        }
      ]
    },
    {
      "cell_type": "code",
      "metadata": {
        "id": "bxfNQCz9MQc0"
      },
      "source": [
        "#Let's know more about our features\n",
        "vars_def = pd.read_csv('Data/VariableDefinitions.csv')\n",
        "vars_def"
      ],
      "execution_count": 15,
      "outputs": []
    },
    {
      "cell_type": "code",
      "metadata": {
        "colab": {
          "base_uri": "https://localhost:8080/",
          "height": 297
        },
        "id": "BeZZpahYEG24",
        "outputId": "7b404f5e-fa3d-4904-96cf-5835b4c6bf93"
      },
      "source": [
        "#Having a look into the statistical measures of the data \n",
        "#(notice the outliers in the two numerical variables)\n",
        "Train_Data.describe()"
      ],
      "execution_count": 16,
      "outputs": [
        {
          "output_type": "execute_result",
          "data": {
            "text/html": [
              "<div>\n",
              "<style scoped>\n",
              "    .dataframe tbody tr th:only-of-type {\n",
              "        vertical-align: middle;\n",
              "    }\n",
              "\n",
              "    .dataframe tbody tr th {\n",
              "        vertical-align: top;\n",
              "    }\n",
              "\n",
              "    .dataframe thead th {\n",
              "        text-align: right;\n",
              "    }\n",
              "</style>\n",
              "<table border=\"1\" class=\"dataframe\">\n",
              "  <thead>\n",
              "    <tr style=\"text-align: right;\">\n",
              "      <th></th>\n",
              "      <th>year</th>\n",
              "      <th>household_size</th>\n",
              "      <th>age_of_respondent</th>\n",
              "    </tr>\n",
              "  </thead>\n",
              "  <tbody>\n",
              "    <tr>\n",
              "      <th>count</th>\n",
              "      <td>23524.000000</td>\n",
              "      <td>23524.000000</td>\n",
              "      <td>23524.000000</td>\n",
              "    </tr>\n",
              "    <tr>\n",
              "      <th>mean</th>\n",
              "      <td>2016.975939</td>\n",
              "      <td>3.797483</td>\n",
              "      <td>38.805220</td>\n",
              "    </tr>\n",
              "    <tr>\n",
              "      <th>std</th>\n",
              "      <td>0.847371</td>\n",
              "      <td>2.227613</td>\n",
              "      <td>16.520569</td>\n",
              "    </tr>\n",
              "    <tr>\n",
              "      <th>min</th>\n",
              "      <td>2016.000000</td>\n",
              "      <td>1.000000</td>\n",
              "      <td>16.000000</td>\n",
              "    </tr>\n",
              "    <tr>\n",
              "      <th>25%</th>\n",
              "      <td>2016.000000</td>\n",
              "      <td>2.000000</td>\n",
              "      <td>26.000000</td>\n",
              "    </tr>\n",
              "    <tr>\n",
              "      <th>50%</th>\n",
              "      <td>2017.000000</td>\n",
              "      <td>3.000000</td>\n",
              "      <td>35.000000</td>\n",
              "    </tr>\n",
              "    <tr>\n",
              "      <th>75%</th>\n",
              "      <td>2018.000000</td>\n",
              "      <td>5.000000</td>\n",
              "      <td>49.000000</td>\n",
              "    </tr>\n",
              "    <tr>\n",
              "      <th>max</th>\n",
              "      <td>2018.000000</td>\n",
              "      <td>21.000000</td>\n",
              "      <td>100.000000</td>\n",
              "    </tr>\n",
              "  </tbody>\n",
              "</table>\n",
              "</div>"
            ],
            "text/plain": [
              "               year  household_size  age_of_respondent\n",
              "count  23524.000000    23524.000000       23524.000000\n",
              "mean    2016.975939        3.797483          38.805220\n",
              "std        0.847371        2.227613          16.520569\n",
              "min     2016.000000        1.000000          16.000000\n",
              "25%     2016.000000        2.000000          26.000000\n",
              "50%     2017.000000        3.000000          35.000000\n",
              "75%     2018.000000        5.000000          49.000000\n",
              "max     2018.000000       21.000000         100.000000"
            ]
          },
          "metadata": {},
          "execution_count": 16
        }
      ]
    },
    {
      "cell_type": "code",
      "metadata": {
        "id": "a1u-1OGcDFvJ"
      },
      "source": [
        "#Preprocess the data\n",
        "X = transform(Train_Data)\n",
        "X_Test = transform(Test_Data)\n",
        "\n",
        "#Convert the y-values from object-type (Yes, No) into binary-type (1, 0)\n",
        "lb = LabelBinarizer()\n",
        "y = lb.fit_transform(Train_Data['bank_account']).reshape(-1,)"
      ],
      "execution_count": 17,
      "outputs": []
    },
    {
      "cell_type": "code",
      "metadata": {
        "colab": {
          "base_uri": "https://localhost:8080/"
        },
        "id": "J29szXuVFppf",
        "outputId": "e68b1a0d-934a-4588-b7ee-b838b485bbca"
      },
      "source": [
        "#Now, let's check the features again\n",
        "X.info()"
      ],
      "execution_count": 18,
      "outputs": [
        {
          "output_type": "stream",
          "name": "stdout",
          "text": [
            "<class 'pandas.core.frame.DataFrame'>\n",
            "Int64Index: 21656 entries, 0 to 23522\n",
            "Data columns (total 32 columns):\n",
            " #   Column                                           Non-Null Count  Dtype\n",
            "---  ------                                           --------------  -----\n",
            " 0   location_type                                    21656 non-null  int64\n",
            " 1   year_x                                           21656 non-null  int64\n",
            " 2   cellphone_access                                 21656 non-null  int64\n",
            " 3   household_size                                   21656 non-null  int64\n",
            " 4   age_of_respondent                                21656 non-null  int64\n",
            " 5   gender_of_respondent                             21656 non-null  int64\n",
            " 6   year_y                                           21656 non-null  int64\n",
            " 7   job_type_Dont Know/Refuse to answer              21656 non-null  uint8\n",
            " 8   job_type_Farming and Fishing                     21656 non-null  uint8\n",
            " 9   job_type_Formally employed Government            21656 non-null  uint8\n",
            " 10  job_type_Formally employed Private               21656 non-null  uint8\n",
            " 11  job_type_Government Dependent                    21656 non-null  uint8\n",
            " 12  job_type_Informally employed                     21656 non-null  uint8\n",
            " 13  job_type_No Income                               21656 non-null  uint8\n",
            " 14  job_type_Other Income                            21656 non-null  uint8\n",
            " 15  job_type_Remittance Dependent                    21656 non-null  uint8\n",
            " 16  job_type_Self employed                           21656 non-null  uint8\n",
            " 17  education_level_No formal education              21656 non-null  uint8\n",
            " 18  education_level_Other/Dont know/RTA              21656 non-null  uint8\n",
            " 19  education_level_Primary education                21656 non-null  uint8\n",
            " 20  education_level_Secondary education              21656 non-null  uint8\n",
            " 21  education_level_Tertiary education               21656 non-null  uint8\n",
            " 22  education_level_Vocational/Specialised training  21656 non-null  uint8\n",
            " 23  country_Kenya                                    21656 non-null  uint8\n",
            " 24  country_Rwanda                                   21656 non-null  uint8\n",
            " 25  country_Tanzania                                 21656 non-null  uint8\n",
            " 26  country_Uganda                                   21656 non-null  uint8\n",
            " 27  marital_status_Divorced/Seperated                21656 non-null  uint8\n",
            " 28  marital_status_Dont know                         21656 non-null  uint8\n",
            " 29  marital_status_Married/Living together           21656 non-null  uint8\n",
            " 30  marital_status_Single/Never Married              21656 non-null  uint8\n",
            " 31  marital_status_Widowed                           21656 non-null  uint8\n",
            "dtypes: int64(7), uint8(25)\n",
            "memory usage: 2.5 MB\n"
          ]
        }
      ]
    },
    {
      "cell_type": "code",
      "metadata": {
        "colab": {
          "base_uri": "https://localhost:8080/",
          "height": 351
        },
        "id": "IGQLyDh1F05V",
        "outputId": "80dd7fa2-a2a0-4f9b-a467-62141d98cf71"
      },
      "source": [
        "#Let's check the statistics again (Notice the two previous numerical variables)\n",
        "X.describe()"
      ],
      "execution_count": 19,
      "outputs": [
        {
          "output_type": "execute_result",
          "data": {
            "text/html": [
              "<div>\n",
              "<style scoped>\n",
              "    .dataframe tbody tr th:only-of-type {\n",
              "        vertical-align: middle;\n",
              "    }\n",
              "\n",
              "    .dataframe tbody tr th {\n",
              "        vertical-align: top;\n",
              "    }\n",
              "\n",
              "    .dataframe thead th {\n",
              "        text-align: right;\n",
              "    }\n",
              "</style>\n",
              "<table border=\"1\" class=\"dataframe\">\n",
              "  <thead>\n",
              "    <tr style=\"text-align: right;\">\n",
              "      <th></th>\n",
              "      <th>location_type</th>\n",
              "      <th>year_x</th>\n",
              "      <th>cellphone_access</th>\n",
              "      <th>household_size</th>\n",
              "      <th>age_of_respondent</th>\n",
              "      <th>gender_of_respondent</th>\n",
              "      <th>year_y</th>\n",
              "      <th>job_type_Dont Know/Refuse to answer</th>\n",
              "      <th>job_type_Farming and Fishing</th>\n",
              "      <th>job_type_Formally employed Government</th>\n",
              "      <th>job_type_Formally employed Private</th>\n",
              "      <th>job_type_Government Dependent</th>\n",
              "      <th>job_type_Informally employed</th>\n",
              "      <th>job_type_No Income</th>\n",
              "      <th>job_type_Other Income</th>\n",
              "      <th>job_type_Remittance Dependent</th>\n",
              "      <th>job_type_Self employed</th>\n",
              "      <th>education_level_No formal education</th>\n",
              "      <th>education_level_Other/Dont know/RTA</th>\n",
              "      <th>education_level_Primary education</th>\n",
              "      <th>education_level_Secondary education</th>\n",
              "      <th>education_level_Tertiary education</th>\n",
              "      <th>education_level_Vocational/Specialised training</th>\n",
              "      <th>country_Kenya</th>\n",
              "      <th>country_Rwanda</th>\n",
              "      <th>country_Tanzania</th>\n",
              "      <th>country_Uganda</th>\n",
              "      <th>marital_status_Divorced/Seperated</th>\n",
              "      <th>marital_status_Dont know</th>\n",
              "      <th>marital_status_Married/Living together</th>\n",
              "      <th>marital_status_Single/Never Married</th>\n",
              "      <th>marital_status_Widowed</th>\n",
              "    </tr>\n",
              "  </thead>\n",
              "  <tbody>\n",
              "    <tr>\n",
              "      <th>count</th>\n",
              "      <td>21656.000000</td>\n",
              "      <td>21656.000000</td>\n",
              "      <td>21656.000000</td>\n",
              "      <td>21656.000000</td>\n",
              "      <td>21656.000000</td>\n",
              "      <td>21656.000000</td>\n",
              "      <td>21656.000000</td>\n",
              "      <td>21656.000000</td>\n",
              "      <td>21656.000000</td>\n",
              "      <td>21656.000000</td>\n",
              "      <td>21656.000000</td>\n",
              "      <td>21656.000000</td>\n",
              "      <td>21656.000000</td>\n",
              "      <td>21656.000000</td>\n",
              "      <td>21656.000000</td>\n",
              "      <td>21656.000000</td>\n",
              "      <td>21656.000000</td>\n",
              "      <td>21656.000000</td>\n",
              "      <td>21656.000000</td>\n",
              "      <td>21656.000000</td>\n",
              "      <td>21656.000000</td>\n",
              "      <td>21656.000000</td>\n",
              "      <td>21656.000000</td>\n",
              "      <td>21656.000000</td>\n",
              "      <td>21656.000000</td>\n",
              "      <td>21656.000000</td>\n",
              "      <td>21656.000000</td>\n",
              "      <td>21656.000000</td>\n",
              "      <td>21656.000000</td>\n",
              "      <td>21656.000000</td>\n",
              "      <td>21656.000000</td>\n",
              "      <td>21656.000000</td>\n",
              "    </tr>\n",
              "    <tr>\n",
              "      <th>mean</th>\n",
              "      <td>0.397673</td>\n",
              "      <td>2016.964583</td>\n",
              "      <td>0.756326</td>\n",
              "      <td>3.646795</td>\n",
              "      <td>36.815340</td>\n",
              "      <td>0.410556</td>\n",
              "      <td>2016.964583</td>\n",
              "      <td>0.005264</td>\n",
              "      <td>0.226450</td>\n",
              "      <td>0.017409</td>\n",
              "      <td>0.047377</td>\n",
              "      <td>0.005911</td>\n",
              "      <td>0.249215</td>\n",
              "      <td>0.025582</td>\n",
              "      <td>0.044099</td>\n",
              "      <td>0.099049</td>\n",
              "      <td>0.279645</td>\n",
              "      <td>0.170530</td>\n",
              "      <td>0.001293</td>\n",
              "      <td>0.556012</td>\n",
              "      <td>0.184706</td>\n",
              "      <td>0.052041</td>\n",
              "      <td>0.035417</td>\n",
              "      <td>0.253371</td>\n",
              "      <td>0.372414</td>\n",
              "      <td>0.290589</td>\n",
              "      <td>0.083626</td>\n",
              "      <td>0.092676</td>\n",
              "      <td>0.000323</td>\n",
              "      <td>0.461535</td>\n",
              "      <td>0.351265</td>\n",
              "      <td>0.094200</td>\n",
              "    </tr>\n",
              "    <tr>\n",
              "      <th>std</th>\n",
              "      <td>0.489428</td>\n",
              "      <td>0.841540</td>\n",
              "      <td>0.429308</td>\n",
              "      <td>1.926871</td>\n",
              "      <td>14.078164</td>\n",
              "      <td>0.491946</td>\n",
              "      <td>0.841540</td>\n",
              "      <td>0.072365</td>\n",
              "      <td>0.418543</td>\n",
              "      <td>0.130791</td>\n",
              "      <td>0.212449</td>\n",
              "      <td>0.076655</td>\n",
              "      <td>0.432569</td>\n",
              "      <td>0.157888</td>\n",
              "      <td>0.205319</td>\n",
              "      <td>0.298734</td>\n",
              "      <td>0.448835</td>\n",
              "      <td>0.376107</td>\n",
              "      <td>0.035935</td>\n",
              "      <td>0.496864</td>\n",
              "      <td>0.388068</td>\n",
              "      <td>0.222115</td>\n",
              "      <td>0.184837</td>\n",
              "      <td>0.434952</td>\n",
              "      <td>0.483459</td>\n",
              "      <td>0.454045</td>\n",
              "      <td>0.276832</td>\n",
              "      <td>0.289985</td>\n",
              "      <td>0.017976</td>\n",
              "      <td>0.498530</td>\n",
              "      <td>0.477377</td>\n",
              "      <td>0.292114</td>\n",
              "    </tr>\n",
              "    <tr>\n",
              "      <th>min</th>\n",
              "      <td>0.000000</td>\n",
              "      <td>2016.000000</td>\n",
              "      <td>0.000000</td>\n",
              "      <td>1.000000</td>\n",
              "      <td>16.000000</td>\n",
              "      <td>0.000000</td>\n",
              "      <td>2016.000000</td>\n",
              "      <td>0.000000</td>\n",
              "      <td>0.000000</td>\n",
              "      <td>0.000000</td>\n",
              "      <td>0.000000</td>\n",
              "      <td>0.000000</td>\n",
              "      <td>0.000000</td>\n",
              "      <td>0.000000</td>\n",
              "      <td>0.000000</td>\n",
              "      <td>0.000000</td>\n",
              "      <td>0.000000</td>\n",
              "      <td>0.000000</td>\n",
              "      <td>0.000000</td>\n",
              "      <td>0.000000</td>\n",
              "      <td>0.000000</td>\n",
              "      <td>0.000000</td>\n",
              "      <td>0.000000</td>\n",
              "      <td>0.000000</td>\n",
              "      <td>0.000000</td>\n",
              "      <td>0.000000</td>\n",
              "      <td>0.000000</td>\n",
              "      <td>0.000000</td>\n",
              "      <td>0.000000</td>\n",
              "      <td>0.000000</td>\n",
              "      <td>0.000000</td>\n",
              "      <td>0.000000</td>\n",
              "    </tr>\n",
              "    <tr>\n",
              "      <th>25%</th>\n",
              "      <td>0.000000</td>\n",
              "      <td>2016.000000</td>\n",
              "      <td>1.000000</td>\n",
              "      <td>2.000000</td>\n",
              "      <td>26.000000</td>\n",
              "      <td>0.000000</td>\n",
              "      <td>2016.000000</td>\n",
              "      <td>0.000000</td>\n",
              "      <td>0.000000</td>\n",
              "      <td>0.000000</td>\n",
              "      <td>0.000000</td>\n",
              "      <td>0.000000</td>\n",
              "      <td>0.000000</td>\n",
              "      <td>0.000000</td>\n",
              "      <td>0.000000</td>\n",
              "      <td>0.000000</td>\n",
              "      <td>0.000000</td>\n",
              "      <td>0.000000</td>\n",
              "      <td>0.000000</td>\n",
              "      <td>0.000000</td>\n",
              "      <td>0.000000</td>\n",
              "      <td>0.000000</td>\n",
              "      <td>0.000000</td>\n",
              "      <td>0.000000</td>\n",
              "      <td>0.000000</td>\n",
              "      <td>0.000000</td>\n",
              "      <td>0.000000</td>\n",
              "      <td>0.000000</td>\n",
              "      <td>0.000000</td>\n",
              "      <td>0.000000</td>\n",
              "      <td>0.000000</td>\n",
              "      <td>0.000000</td>\n",
              "    </tr>\n",
              "    <tr>\n",
              "      <th>50%</th>\n",
              "      <td>0.000000</td>\n",
              "      <td>2017.000000</td>\n",
              "      <td>1.000000</td>\n",
              "      <td>3.000000</td>\n",
              "      <td>34.000000</td>\n",
              "      <td>0.000000</td>\n",
              "      <td>2017.000000</td>\n",
              "      <td>0.000000</td>\n",
              "      <td>0.000000</td>\n",
              "      <td>0.000000</td>\n",
              "      <td>0.000000</td>\n",
              "      <td>0.000000</td>\n",
              "      <td>0.000000</td>\n",
              "      <td>0.000000</td>\n",
              "      <td>0.000000</td>\n",
              "      <td>0.000000</td>\n",
              "      <td>0.000000</td>\n",
              "      <td>0.000000</td>\n",
              "      <td>0.000000</td>\n",
              "      <td>1.000000</td>\n",
              "      <td>0.000000</td>\n",
              "      <td>0.000000</td>\n",
              "      <td>0.000000</td>\n",
              "      <td>0.000000</td>\n",
              "      <td>0.000000</td>\n",
              "      <td>0.000000</td>\n",
              "      <td>0.000000</td>\n",
              "      <td>0.000000</td>\n",
              "      <td>0.000000</td>\n",
              "      <td>0.000000</td>\n",
              "      <td>0.000000</td>\n",
              "      <td>0.000000</td>\n",
              "    </tr>\n",
              "    <tr>\n",
              "      <th>75%</th>\n",
              "      <td>1.000000</td>\n",
              "      <td>2018.000000</td>\n",
              "      <td>1.000000</td>\n",
              "      <td>5.000000</td>\n",
              "      <td>46.000000</td>\n",
              "      <td>1.000000</td>\n",
              "      <td>2018.000000</td>\n",
              "      <td>0.000000</td>\n",
              "      <td>0.000000</td>\n",
              "      <td>0.000000</td>\n",
              "      <td>0.000000</td>\n",
              "      <td>0.000000</td>\n",
              "      <td>0.000000</td>\n",
              "      <td>0.000000</td>\n",
              "      <td>0.000000</td>\n",
              "      <td>0.000000</td>\n",
              "      <td>1.000000</td>\n",
              "      <td>0.000000</td>\n",
              "      <td>0.000000</td>\n",
              "      <td>1.000000</td>\n",
              "      <td>0.000000</td>\n",
              "      <td>0.000000</td>\n",
              "      <td>0.000000</td>\n",
              "      <td>1.000000</td>\n",
              "      <td>1.000000</td>\n",
              "      <td>1.000000</td>\n",
              "      <td>0.000000</td>\n",
              "      <td>0.000000</td>\n",
              "      <td>0.000000</td>\n",
              "      <td>1.000000</td>\n",
              "      <td>1.000000</td>\n",
              "      <td>0.000000</td>\n",
              "    </tr>\n",
              "    <tr>\n",
              "      <th>max</th>\n",
              "      <td>1.000000</td>\n",
              "      <td>2018.000000</td>\n",
              "      <td>1.000000</td>\n",
              "      <td>8.000000</td>\n",
              "      <td>71.000000</td>\n",
              "      <td>1.000000</td>\n",
              "      <td>2018.000000</td>\n",
              "      <td>1.000000</td>\n",
              "      <td>1.000000</td>\n",
              "      <td>1.000000</td>\n",
              "      <td>1.000000</td>\n",
              "      <td>1.000000</td>\n",
              "      <td>1.000000</td>\n",
              "      <td>1.000000</td>\n",
              "      <td>1.000000</td>\n",
              "      <td>1.000000</td>\n",
              "      <td>1.000000</td>\n",
              "      <td>1.000000</td>\n",
              "      <td>1.000000</td>\n",
              "      <td>1.000000</td>\n",
              "      <td>1.000000</td>\n",
              "      <td>1.000000</td>\n",
              "      <td>1.000000</td>\n",
              "      <td>1.000000</td>\n",
              "      <td>1.000000</td>\n",
              "      <td>1.000000</td>\n",
              "      <td>1.000000</td>\n",
              "      <td>1.000000</td>\n",
              "      <td>1.000000</td>\n",
              "      <td>1.000000</td>\n",
              "      <td>1.000000</td>\n",
              "      <td>1.000000</td>\n",
              "    </tr>\n",
              "  </tbody>\n",
              "</table>\n",
              "</div>"
            ],
            "text/plain": [
              "       location_type  ...  marital_status_Widowed\n",
              "count   21656.000000  ...            21656.000000\n",
              "mean        0.397673  ...                0.094200\n",
              "std         0.489428  ...                0.292114\n",
              "min         0.000000  ...                0.000000\n",
              "25%         0.000000  ...                0.000000\n",
              "50%         0.000000  ...                0.000000\n",
              "75%         1.000000  ...                0.000000\n",
              "max         1.000000  ...                1.000000\n",
              "\n",
              "[8 rows x 32 columns]"
            ]
          },
          "metadata": {},
          "execution_count": 19
        }
      ]
    },
    {
      "cell_type": "markdown",
      "metadata": {
        "id": "1bcDsgQBGsO9"
      },
      "source": [
        "## **Defining the Model**"
      ]
    },
    {
      "cell_type": "code",
      "metadata": {
        "id": "HjTZNVz2G8kw"
      },
      "source": [
        "#Splitting the Training set into Training and Testing sets\n",
        "X_Train, X_test = train_test_split(X, random_state=42, test_size = 0.2)\n",
        "y_Train, y_test = train_test_split(y, random_state=42, test_size = 0.2)"
      ],
      "execution_count": 20,
      "outputs": []
    },
    {
      "cell_type": "code",
      "metadata": {
        "id": "-07DDNsWHF5M"
      },
      "source": [
        "#Defining XGBoost model with specific hyperparameters (They are found by Tuning the Hyperparameters)\n",
        "xg_model = XGBClassifier(min_child_weight = 5,\n",
        "                          gamma = 0.6,\n",
        "                          subsample = 0.6,\n",
        "                          colsample_bytree = 0.6,\n",
        "                          max_depth = 5)"
      ],
      "execution_count": 21,
      "outputs": []
    },
    {
      "cell_type": "code",
      "metadata": {
        "colab": {
          "base_uri": "https://localhost:8080/"
        },
        "id": "3Wu8uwHLHIcA",
        "outputId": "af7ca597-189b-4c45-f938-e9073f0e16a7"
      },
      "source": [
        "#Fitting the model with training data\n",
        "xg_model.fit(X_Train,y_Train)"
      ],
      "execution_count": 22,
      "outputs": [
        {
          "output_type": "execute_result",
          "data": {
            "text/plain": [
              "XGBClassifier(base_score=0.5, booster='gbtree', colsample_bylevel=1,\n",
              "              colsample_bynode=1, colsample_bytree=0.6, gamma=0.6,\n",
              "              learning_rate=0.1, max_delta_step=0, max_depth=5,\n",
              "              min_child_weight=5, missing=None, n_estimators=100, n_jobs=1,\n",
              "              nthread=None, objective='binary:logistic', random_state=0,\n",
              "              reg_alpha=0, reg_lambda=1, scale_pos_weight=1, seed=None,\n",
              "              silent=None, subsample=0.6, verbosity=1)"
            ]
          },
          "metadata": {},
          "execution_count": 22
        }
      ]
    },
    {
      "cell_type": "code",
      "metadata": {
        "colab": {
          "base_uri": "https://localhost:8080/"
        },
        "id": "OHn4fVCLVBNZ",
        "outputId": "c53e0fd8-74d7-4442-8437-4915dccc1c23"
      },
      "source": [
        "#Using 10-fold Cross-Validation to evaluate the model\n",
        "scores = cross_val_score(xg_model, X_test, y_test, scoring=\"neg_mean_absolute_error\", cv=10)\n",
        "mae_scores = - scores\n",
        "print(\"Scores:\", mae_scores)\n",
        "print(\"Mean:\", mae_scores.mean())\n",
        "print(\"Standard deviation:\", mae_scores.std())"
      ],
      "execution_count": 23,
      "outputs": [
        {
          "output_type": "stream",
          "name": "stdout",
          "text": [
            "Scores: [0.11981567 0.12442396 0.11316397 0.12009238 0.11778291 0.11316397\n",
            " 0.09006928 0.12240185 0.10854503 0.11547344]\n",
            "Mean: 0.11449324719830567\n",
            "Standard deviation: 0.009317034564534971\n"
          ]
        }
      ]
    },
    {
      "cell_type": "markdown",
      "metadata": {
        "id": "c9s7o-rhYwbM"
      },
      "source": [
        "## **Submission**"
      ]
    },
    {
      "cell_type": "code",
      "metadata": {
        "id": "Wx-XfikHHTmo"
      },
      "source": [
        "#Fitting the model with the whole dataset and predicting the test set values\n",
        "xg_model.fit(X,y)\n",
        "X_Test['bank_account'] = xg_model.predict(X_Test)"
      ],
      "execution_count": 24,
      "outputs": []
    },
    {
      "cell_type": "code",
      "metadata": {
        "id": "Ao6HXLmaYzhO"
      },
      "source": [
        "#Exporting the submission file\n",
        "submission = pd.DataFrame({\"uniqueid\": Test_Data[\"uniqueid\"] + \" x \" + Test_Data[\"country\"],\"bank_account\": X_Test.bank_account})\n",
        "submission.to_csv('Final_Submission.csv',index=False)"
      ],
      "execution_count": 25,
      "outputs": []
    }
  ]
}